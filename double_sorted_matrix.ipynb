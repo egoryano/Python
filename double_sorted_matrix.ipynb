{
 "cells": [
  {
   "cell_type": "code",
   "execution_count": 1,
   "id": "5126205d",
   "metadata": {},
   "outputs": [],
   "source": [
    "import numpy as np\n",
    "\n",
    "# matrix has propery that each row is sorted and each column is sorted at the same time\n",
    "\n",
    "input_array = np.array([\n",
    "    [3, 5, 6, 9, 11, 12],\n",
    "    [5, 7, 8, 12, 14, 32],\n",
    "    [6, 8, 9, 13, 22, 34],\n",
    "    [10, 11, 14, 15, 26, 37],\n",
    "    [18, 19, 20, 21, 30, 46]\n",
    "])\n",
    "\n",
    "# value for search in matrix\n",
    "value_for_search = 18\n",
    "\n",
    "#best solution has complexity of O(N+M), N - num rows, M - num cols"
   ]
  },
  {
   "cell_type": "code",
   "execution_count": 2,
   "id": "7c4a4531",
   "metadata": {},
   "outputs": [],
   "source": [
    "def find_value_in_double_sorted_array():\n",
    "    index_counter = 0\n",
    "    visited_elems = 0\n",
    "\n",
    "    for row in input_array:\n",
    "        row_back = row[::-1][index_counter:]\n",
    "        for elem in row_back:\n",
    "            visited_elems += 1\n",
    "            print(elem, index_counter)\n",
    "            if elem < value_for_search:\n",
    "                print('break')\n",
    "                break\n",
    "            elif elem == value_for_search:\n",
    "                print('find')\n",
    "                return True, visited_elems\n",
    "            else:\n",
    "                index_counter += 1\n",
    "                print('no break')\n",
    "    return False, visited_elems"
   ]
  },
  {
   "cell_type": "code",
   "execution_count": 3,
   "id": "223c3f9f",
   "metadata": {},
   "outputs": [
    {
     "name": "stdout",
     "output_type": "stream",
     "text": [
      "12 0\n",
      "break\n",
      "32 0\n",
      "no break\n",
      "14 1\n",
      "break\n",
      "22 1\n",
      "no break\n",
      "13 2\n",
      "break\n",
      "15 2\n",
      "break\n",
      "21 2\n",
      "no break\n",
      "20 3\n",
      "no break\n",
      "19 4\n",
      "no break\n",
      "18 5\n",
      "find\n"
     ]
    },
    {
     "data": {
      "text/plain": [
       "(True, 10)"
      ]
     },
     "execution_count": 3,
     "metadata": {},
     "output_type": "execute_result"
    }
   ],
   "source": [
    "find_value_in_double_sorted_array()"
   ]
  },
  {
   "cell_type": "code",
   "execution_count": null,
   "id": "d14cf645",
   "metadata": {},
   "outputs": [],
   "source": []
  }
 ],
 "metadata": {
  "kernelspec": {
   "display_name": "Python 3 (ipykernel)",
   "language": "python",
   "name": "python3"
  },
  "language_info": {
   "codemirror_mode": {
    "name": "ipython",
    "version": 3
   },
   "file_extension": ".py",
   "mimetype": "text/x-python",
   "name": "python",
   "nbconvert_exporter": "python",
   "pygments_lexer": "ipython3",
   "version": "3.10.9"
  }
 },
 "nbformat": 4,
 "nbformat_minor": 5
}
